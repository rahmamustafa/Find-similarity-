{
 "cells": [
  {
   "cell_type": "code",
   "execution_count": 1,
   "id": "0be8fb68",
   "metadata": {},
   "outputs": [],
   "source": [
    "import nltk\n",
    "from nltk.corpus import stopwords\n",
    "import pandas as pd"
   ]
  },
  {
   "cell_type": "code",
   "execution_count": 2,
   "id": "026fb968",
   "metadata": {},
   "outputs": [],
   "source": [
    "# Define the documents\n",
    "doc_trump = \"Mr. Trump became president after winning the political election. Though he lost the support of some republican friends, Trump is friends with President Putin\"\n",
    "\n",
    "doc_election = \"President Trump says Putin had no political interference is the election outcome. He says it was a witchhunt by political parties. He claimed President Putin is a friend who had nothing to do with the election\"\n",
    "\n",
    "doc_putin = \"Post elections, Vladimir Putin became President of Russia. President Putin had served as the Prime Minister earlier in his political career\"\n",
    "\n",
    "documents = [doc_trump, doc_election, doc_putin]"
   ]
  },
  {
   "cell_type": "markdown",
   "id": "1a77efcb",
   "metadata": {},
   "source": [
    "# feature selection using TF-IDF"
   ]
  },
  {
   "cell_type": "code",
   "execution_count": 5,
   "id": "1c81af7a",
   "metadata": {},
   "outputs": [
    {
     "name": "stdout",
     "output_type": "stream",
     "text": [
      "['career', 'claimed', 'earlier', 'election', 'elections', 'friend', 'friends', 'interference', 'lost', 'minister', 'mr', 'outcome', 'parties', 'political', 'post', 'president', 'prime', 'putin', 'republican', 'russia', 'says', 'served', 'support', 'trump', 'vladimir', 'winning', 'witchhunt']\n"
     ]
    }
   ],
   "source": [
    "from sklearn.feature_extraction.text import TfidfVectorizer\n",
    "vectorizer = TfidfVectorizer(stop_words='english')\n",
    "tfvector = vectorizer.fit_transform(documents)\n",
    "print(vectorizer.get_feature_names())"
   ]
  },
  {
   "cell_type": "code",
   "execution_count": 6,
   "id": "46d33e13",
   "metadata": {},
   "outputs": [
    {
     "name": "stdout",
     "output_type": "stream",
     "text": [
      "(3, 27)\n"
     ]
    }
   ],
   "source": [
    "#of doucs and #of words\n",
    "print(tfvector.shape)"
   ]
  },
  {
   "cell_type": "code",
   "execution_count": 7,
   "id": "a52c0c1f",
   "metadata": {},
   "outputs": [
    {
     "data": {
      "text/plain": [
       "array([[0.        , 0.        , 0.        , 0.20336832, 0.        ,\n",
       "        0.        , 0.5348098 , 0.        , 0.2674049 , 0.        ,\n",
       "        0.2674049 , 0.        , 0.        , 0.15793364, 0.        ,\n",
       "        0.31586728, 0.        , 0.15793364, 0.2674049 , 0.        ,\n",
       "        0.        , 0.        , 0.2674049 , 0.40673664, 0.        ,\n",
       "        0.2674049 , 0.        ],\n",
       "       [0.        , 0.24198165, 0.        , 0.36806657, 0.        ,\n",
       "        0.24198165, 0.        , 0.24198165, 0.        , 0.        ,\n",
       "        0.        , 0.24198165, 0.24198165, 0.28583652, 0.        ,\n",
       "        0.28583652, 0.        , 0.28583652, 0.        , 0.        ,\n",
       "        0.4839633 , 0.        , 0.        , 0.18403328, 0.        ,\n",
       "        0.        , 0.24198165],\n",
       "       [0.28701233, 0.        , 0.28701233, 0.        , 0.28701233,\n",
       "        0.        , 0.        , 0.        , 0.        , 0.28701233,\n",
       "        0.        , 0.        , 0.        , 0.16951411, 0.28701233,\n",
       "        0.33902821, 0.28701233, 0.33902821, 0.        , 0.28701233,\n",
       "        0.        , 0.28701233, 0.        , 0.        , 0.28701233,\n",
       "        0.        , 0.        ]])"
      ]
     },
     "execution_count": 7,
     "metadata": {},
     "output_type": "execute_result"
    }
   ],
   "source": [
    "tfvector.toarray()"
   ]
  },
  {
   "cell_type": "code",
   "execution_count": 9,
   "id": "fea0d70a",
   "metadata": {},
   "outputs": [
    {
     "data": {
      "text/html": [
       "<div>\n",
       "<style scoped>\n",
       "    .dataframe tbody tr th:only-of-type {\n",
       "        vertical-align: middle;\n",
       "    }\n",
       "\n",
       "    .dataframe tbody tr th {\n",
       "        vertical-align: top;\n",
       "    }\n",
       "\n",
       "    .dataframe thead th {\n",
       "        text-align: right;\n",
       "    }\n",
       "</style>\n",
       "<table border=\"1\" class=\"dataframe\">\n",
       "  <thead>\n",
       "    <tr style=\"text-align: right;\">\n",
       "      <th></th>\n",
       "      <th>career</th>\n",
       "      <th>claimed</th>\n",
       "      <th>earlier</th>\n",
       "      <th>election</th>\n",
       "      <th>elections</th>\n",
       "      <th>friend</th>\n",
       "      <th>friends</th>\n",
       "      <th>interference</th>\n",
       "      <th>lost</th>\n",
       "      <th>minister</th>\n",
       "      <th>...</th>\n",
       "      <th>putin</th>\n",
       "      <th>republican</th>\n",
       "      <th>russia</th>\n",
       "      <th>says</th>\n",
       "      <th>served</th>\n",
       "      <th>support</th>\n",
       "      <th>trump</th>\n",
       "      <th>vladimir</th>\n",
       "      <th>winning</th>\n",
       "      <th>witchhunt</th>\n",
       "    </tr>\n",
       "  </thead>\n",
       "  <tbody>\n",
       "    <tr>\n",
       "      <th>doc_trump</th>\n",
       "      <td>0.000000</td>\n",
       "      <td>0.000000</td>\n",
       "      <td>0.000000</td>\n",
       "      <td>0.203368</td>\n",
       "      <td>0.000000</td>\n",
       "      <td>0.000000</td>\n",
       "      <td>0.53481</td>\n",
       "      <td>0.000000</td>\n",
       "      <td>0.267405</td>\n",
       "      <td>0.000000</td>\n",
       "      <td>...</td>\n",
       "      <td>0.157934</td>\n",
       "      <td>0.267405</td>\n",
       "      <td>0.000000</td>\n",
       "      <td>0.000000</td>\n",
       "      <td>0.000000</td>\n",
       "      <td>0.267405</td>\n",
       "      <td>0.406737</td>\n",
       "      <td>0.000000</td>\n",
       "      <td>0.267405</td>\n",
       "      <td>0.000000</td>\n",
       "    </tr>\n",
       "    <tr>\n",
       "      <th>doc_election</th>\n",
       "      <td>0.000000</td>\n",
       "      <td>0.241982</td>\n",
       "      <td>0.000000</td>\n",
       "      <td>0.368067</td>\n",
       "      <td>0.000000</td>\n",
       "      <td>0.241982</td>\n",
       "      <td>0.00000</td>\n",
       "      <td>0.241982</td>\n",
       "      <td>0.000000</td>\n",
       "      <td>0.000000</td>\n",
       "      <td>...</td>\n",
       "      <td>0.285837</td>\n",
       "      <td>0.000000</td>\n",
       "      <td>0.000000</td>\n",
       "      <td>0.483963</td>\n",
       "      <td>0.000000</td>\n",
       "      <td>0.000000</td>\n",
       "      <td>0.184033</td>\n",
       "      <td>0.000000</td>\n",
       "      <td>0.000000</td>\n",
       "      <td>0.241982</td>\n",
       "    </tr>\n",
       "    <tr>\n",
       "      <th>doc_putin</th>\n",
       "      <td>0.287012</td>\n",
       "      <td>0.000000</td>\n",
       "      <td>0.287012</td>\n",
       "      <td>0.000000</td>\n",
       "      <td>0.287012</td>\n",
       "      <td>0.000000</td>\n",
       "      <td>0.00000</td>\n",
       "      <td>0.000000</td>\n",
       "      <td>0.000000</td>\n",
       "      <td>0.287012</td>\n",
       "      <td>...</td>\n",
       "      <td>0.339028</td>\n",
       "      <td>0.000000</td>\n",
       "      <td>0.287012</td>\n",
       "      <td>0.000000</td>\n",
       "      <td>0.287012</td>\n",
       "      <td>0.000000</td>\n",
       "      <td>0.000000</td>\n",
       "      <td>0.287012</td>\n",
       "      <td>0.000000</td>\n",
       "      <td>0.000000</td>\n",
       "    </tr>\n",
       "  </tbody>\n",
       "</table>\n",
       "<p>3 rows × 27 columns</p>\n",
       "</div>"
      ],
      "text/plain": [
       "                career   claimed   earlier  election  elections    friend  \\\n",
       "doc_trump     0.000000  0.000000  0.000000  0.203368   0.000000  0.000000   \n",
       "doc_election  0.000000  0.241982  0.000000  0.368067   0.000000  0.241982   \n",
       "doc_putin     0.287012  0.000000  0.287012  0.000000   0.287012  0.000000   \n",
       "\n",
       "              friends  interference      lost  minister  ...     putin  \\\n",
       "doc_trump     0.53481      0.000000  0.267405  0.000000  ...  0.157934   \n",
       "doc_election  0.00000      0.241982  0.000000  0.000000  ...  0.285837   \n",
       "doc_putin     0.00000      0.000000  0.000000  0.287012  ...  0.339028   \n",
       "\n",
       "              republican    russia      says    served   support     trump  \\\n",
       "doc_trump       0.267405  0.000000  0.000000  0.000000  0.267405  0.406737   \n",
       "doc_election    0.000000  0.000000  0.483963  0.000000  0.000000  0.184033   \n",
       "doc_putin       0.000000  0.287012  0.000000  0.287012  0.000000  0.000000   \n",
       "\n",
       "              vladimir   winning  witchhunt  \n",
       "doc_trump     0.000000  0.267405   0.000000  \n",
       "doc_election  0.000000  0.000000   0.241982  \n",
       "doc_putin     0.287012  0.000000   0.000000  \n",
       "\n",
       "[3 rows x 27 columns]"
      ]
     },
     "execution_count": 9,
     "metadata": {},
     "output_type": "execute_result"
    }
   ],
   "source": [
    "tfdf = pd.DataFrame(tfvector.toarray(),columns=vectorizer.get_feature_names(), \n",
    "                index=['doc_trump', 'doc_election', 'doc_putin'])\n",
    "tfdf"
   ]
  },
  {
   "cell_type": "code",
   "execution_count": 10,
   "id": "8cdb0c83",
   "metadata": {},
   "outputs": [
    {
     "name": "stdout",
     "output_type": "stream",
     "text": [
      "[[1.         0.33027897 0.18740386]\n",
      " [0.33027897 1.         0.24226661]\n",
      " [0.18740386 0.24226661 1.        ]]\n"
     ]
    }
   ],
   "source": [
    "from sklearn.metrics.pairwise import cosine_similarity\n",
    "print(cosine_similarity(tfdf, tfdf))"
   ]
  },
  {
   "cell_type": "markdown",
   "id": "fc2fe530",
   "metadata": {},
   "source": [
    "# feature selection using Count"
   ]
  },
  {
   "cell_type": "code",
   "execution_count": 11,
   "id": "9250f7c8",
   "metadata": {},
   "outputs": [
    {
     "data": {
      "text/html": [
       "<div>\n",
       "<style scoped>\n",
       "    .dataframe tbody tr th:only-of-type {\n",
       "        vertical-align: middle;\n",
       "    }\n",
       "\n",
       "    .dataframe tbody tr th {\n",
       "        vertical-align: top;\n",
       "    }\n",
       "\n",
       "    .dataframe thead th {\n",
       "        text-align: right;\n",
       "    }\n",
       "</style>\n",
       "<table border=\"1\" class=\"dataframe\">\n",
       "  <thead>\n",
       "    <tr style=\"text-align: right;\">\n",
       "      <th></th>\n",
       "      <th>after</th>\n",
       "      <th>as</th>\n",
       "      <th>became</th>\n",
       "      <th>by</th>\n",
       "      <th>career</th>\n",
       "      <th>claimed</th>\n",
       "      <th>do</th>\n",
       "      <th>earlier</th>\n",
       "      <th>election</th>\n",
       "      <th>elections</th>\n",
       "      <th>...</th>\n",
       "      <th>the</th>\n",
       "      <th>though</th>\n",
       "      <th>to</th>\n",
       "      <th>trump</th>\n",
       "      <th>vladimir</th>\n",
       "      <th>was</th>\n",
       "      <th>who</th>\n",
       "      <th>winning</th>\n",
       "      <th>witchhunt</th>\n",
       "      <th>with</th>\n",
       "    </tr>\n",
       "  </thead>\n",
       "  <tbody>\n",
       "    <tr>\n",
       "      <th>doc_trump</th>\n",
       "      <td>1</td>\n",
       "      <td>0</td>\n",
       "      <td>1</td>\n",
       "      <td>0</td>\n",
       "      <td>0</td>\n",
       "      <td>0</td>\n",
       "      <td>0</td>\n",
       "      <td>0</td>\n",
       "      <td>1</td>\n",
       "      <td>0</td>\n",
       "      <td>...</td>\n",
       "      <td>2</td>\n",
       "      <td>1</td>\n",
       "      <td>0</td>\n",
       "      <td>2</td>\n",
       "      <td>0</td>\n",
       "      <td>0</td>\n",
       "      <td>0</td>\n",
       "      <td>1</td>\n",
       "      <td>0</td>\n",
       "      <td>1</td>\n",
       "    </tr>\n",
       "    <tr>\n",
       "      <th>doc_election</th>\n",
       "      <td>0</td>\n",
       "      <td>0</td>\n",
       "      <td>0</td>\n",
       "      <td>1</td>\n",
       "      <td>0</td>\n",
       "      <td>1</td>\n",
       "      <td>1</td>\n",
       "      <td>0</td>\n",
       "      <td>2</td>\n",
       "      <td>0</td>\n",
       "      <td>...</td>\n",
       "      <td>2</td>\n",
       "      <td>0</td>\n",
       "      <td>1</td>\n",
       "      <td>1</td>\n",
       "      <td>0</td>\n",
       "      <td>1</td>\n",
       "      <td>1</td>\n",
       "      <td>0</td>\n",
       "      <td>1</td>\n",
       "      <td>1</td>\n",
       "    </tr>\n",
       "    <tr>\n",
       "      <th>doc_putin</th>\n",
       "      <td>0</td>\n",
       "      <td>1</td>\n",
       "      <td>1</td>\n",
       "      <td>0</td>\n",
       "      <td>1</td>\n",
       "      <td>0</td>\n",
       "      <td>0</td>\n",
       "      <td>1</td>\n",
       "      <td>0</td>\n",
       "      <td>1</td>\n",
       "      <td>...</td>\n",
       "      <td>1</td>\n",
       "      <td>0</td>\n",
       "      <td>0</td>\n",
       "      <td>0</td>\n",
       "      <td>1</td>\n",
       "      <td>0</td>\n",
       "      <td>0</td>\n",
       "      <td>0</td>\n",
       "      <td>0</td>\n",
       "      <td>0</td>\n",
       "    </tr>\n",
       "  </tbody>\n",
       "</table>\n",
       "<p>3 rows × 48 columns</p>\n",
       "</div>"
      ],
      "text/plain": [
       "              after  as  became  by  career  claimed  do  earlier  election  \\\n",
       "doc_trump         1   0       1   0       0        0   0        0         1   \n",
       "doc_election      0   0       0   1       0        1   1        0         2   \n",
       "doc_putin         0   1       1   0       1        0   0        1         0   \n",
       "\n",
       "              elections  ...  the  though  to  trump  vladimir  was  who  \\\n",
       "doc_trump             0  ...    2       1   0      2         0    0    0   \n",
       "doc_election          0  ...    2       0   1      1         0    1    1   \n",
       "doc_putin             1  ...    1       0   0      0         1    0    0   \n",
       "\n",
       "              winning  witchhunt  with  \n",
       "doc_trump           1          0     1  \n",
       "doc_election        0          1     1  \n",
       "doc_putin           0          0     0  \n",
       "\n",
       "[3 rows x 48 columns]"
      ]
     },
     "execution_count": 11,
     "metadata": {},
     "output_type": "execute_result"
    }
   ],
   "source": [
    "from sklearn.feature_extraction.text import CountVectorizer\n",
    "\n",
    "# Create the Document Term Matrix\n",
    "count_vectorizer = CountVectorizer(stop_words='english')\n",
    "count_vectorizer = CountVectorizer()\n",
    "sparse_matrix = count_vectorizer.fit_transform(documents)\n",
    "\n",
    "# OPTIONAL: Convert Sparse Matrix to Pandas Dataframe if you want to see the word frequencies.\n",
    "doc_term_matrix = sparse_matrix.todense()\n",
    "df = pd.DataFrame(doc_term_matrix,\n",
    "                  columns=count_vectorizer.get_feature_names(), \n",
    "                index=['doc_trump', 'doc_election', 'doc_putin'])\n",
    "df"
   ]
  },
  {
   "cell_type": "code",
   "execution_count": 12,
   "id": "5250547a",
   "metadata": {},
   "outputs": [
    {
     "name": "stdout",
     "output_type": "stream",
     "text": [
      "[[1.         0.51480485 0.38890873]\n",
      " [0.51480485 1.         0.38829014]\n",
      " [0.38890873 0.38829014 1.        ]]\n"
     ]
    }
   ],
   "source": [
    "from sklearn.metrics.pairwise import cosine_similarity\n",
    "print(cosine_similarity(df, df))"
   ]
  },
  {
   "cell_type": "code",
   "execution_count": null,
   "id": "e79dc3bb",
   "metadata": {},
   "outputs": [],
   "source": []
  }
 ],
 "metadata": {
  "kernelspec": {
   "display_name": "Python 3 (ipykernel)",
   "language": "python",
   "name": "python3"
  },
  "language_info": {
   "codemirror_mode": {
    "name": "ipython",
    "version": 3
   },
   "file_extension": ".py",
   "mimetype": "text/x-python",
   "name": "python",
   "nbconvert_exporter": "python",
   "pygments_lexer": "ipython3",
   "version": "3.9.7"
  }
 },
 "nbformat": 4,
 "nbformat_minor": 5
}
